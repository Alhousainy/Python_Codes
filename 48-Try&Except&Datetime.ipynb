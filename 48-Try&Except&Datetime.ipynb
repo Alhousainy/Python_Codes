{
 "cells": [
  {
   "cell_type": "code",
   "execution_count": 2,
   "metadata": {},
   "outputs": [
    {
     "name": "stdout",
     "output_type": "stream",
     "text": [
      "========================================\n",
      "wrong format\n",
      "end\n"
     ]
    }
   ],
   "source": [
    "print('='*40)\n",
    "while True :\n",
    "    try:\n",
    "        n=input('number')\n",
    "        n=int(n)\n",
    "        print(n*5)\n",
    "        break\n",
    "    except:\n",
    "        print('wrong format')\n",
    "        break\n",
    "    finally:\n",
    "        print('end')"
   ]
  },
  {
   "cell_type": "code",
   "execution_count": 8,
   "metadata": {},
   "outputs": [
    {
     "name": "stdout",
     "output_type": "stream",
     "text": [
      "Error Message Is =>  division by zero\n"
     ]
    }
   ],
   "source": [
    "z=input('number?')\n",
    "try:\n",
    "    x=1/int(z)\n",
    "    print(x)\n",
    "except ZeroDivisionError as err:\n",
    "    print('Error Message Is => ',err)"
   ]
  },
  {
   "cell_type": "code",
   "execution_count": 9,
   "metadata": {},
   "outputs": [
    {
     "name": "stdout",
     "output_type": "stream",
     "text": [
      "2022-11-02\n"
     ]
    }
   ],
   "source": [
    "import datetime as dt \n",
    "now=dt.date.today()\n",
    "print(now)"
   ]
  },
  {
   "cell_type": "code",
   "execution_count": 10,
   "metadata": {},
   "outputs": [
    {
     "name": "stdout",
     "output_type": "stream",
     "text": [
      "11-02-22. 02 Nov 2022 is a Wednesday on the 02 day of November.\n"
     ]
    }
   ],
   "source": [
    "import datetime as dt \n",
    "now =dt.date.today()\n",
    "date=now.strftime(\"%m-%d-%y. %d %b %Y is a %A on the %d day of %B.\")\n",
    "print(date)"
   ]
  },
  {
   "cell_type": "code",
   "execution_count": 13,
   "metadata": {},
   "outputs": [
    {
     "name": "stdout",
     "output_type": "stream",
     "text": [
      "1996-03-24\n",
      "========================================\n",
      "9719 days, 0:00:00\n",
      "========================================\n",
      "9861 days, 0:00:00\n",
      "========================================\n"
     ]
    }
   ],
   "source": [
    "#Convert From Numbers To Date\n",
    "import datetime as dt \n",
    "day=dt.date(1996,3,24)\n",
    "print(day)\n",
    "print('='*40)\n",
    "#To Calcualte Days From 24/3/1996 To Today\n",
    "now=dt.date.today()\n",
    "ndays=now-day\n",
    "print(ndays)\n",
    "print('='*40)\n",
    "day1=dt.date(1996,3,24)\n",
    "day2=dt.date(2023,3,24)\n",
    "ndays_1=day2-day1\n",
    "print(ndays_1)\n",
    "print('='*40)"
   ]
  },
  {
   "cell_type": "code",
   "execution_count": 14,
   "metadata": {},
   "outputs": [
    {
     "name": "stdout",
     "output_type": "stream",
     "text": [
      "2011-03-15 13:15:09\n",
      "==============================\n",
      "1982-02-02 18:43:12\n",
      "==============================\n",
      "10632 days, 18:31:57\n",
      "==============================\n"
     ]
    }
   ],
   "source": [
    "import datetime as dt \n",
    "day1=dt.datetime(year=2011, month=3, day=15,hour=13 ,minute = 15, second = 9)\n",
    "day2=dt.datetime(year=1982, month=2, day=2,hour=18 ,minute = 43, second = 12)\n",
    "print(day1)\n",
    "print('='*30)\n",
    "print(day2)\n",
    "print('='*30)\n",
    "print(day1-day2)\n",
    "print('='*30)"
   ]
  },
  {
   "cell_type": "code",
   "execution_count": 15,
   "metadata": {},
   "outputs": [
    {
     "name": "stdout",
     "output_type": "stream",
     "text": [
      "time.struct_time(tm_year=2022, tm_mon=11, tm_mday=2, tm_hour=19, tm_min=54, tm_sec=32, tm_wday=2, tm_yday=306, tm_isdst=0)\n"
     ]
    }
   ],
   "source": [
    "import time \n",
    "t=time.gmtime()\n",
    "print(t)"
   ]
  },
  {
   "cell_type": "code",
   "execution_count": null,
   "metadata": {},
   "outputs": [],
   "source": []
  }
 ],
 "metadata": {
  "kernelspec": {
   "display_name": "Python 3.10.6 64-bit",
   "language": "python",
   "name": "python3"
  },
  "language_info": {
   "codemirror_mode": {
    "name": "ipython",
    "version": 3
   },
   "file_extension": ".py",
   "mimetype": "text/x-python",
   "name": "python",
   "nbconvert_exporter": "python",
   "pygments_lexer": "ipython3",
   "version": "3.10.6"
  },
  "orig_nbformat": 4,
  "vscode": {
   "interpreter": {
    "hash": "4b9f101850c67e49d0d8461a88159b16436e7850b7b01b32dcbf2903f9255fd2"
   }
  }
 },
 "nbformat": 4,
 "nbformat_minor": 2
}
