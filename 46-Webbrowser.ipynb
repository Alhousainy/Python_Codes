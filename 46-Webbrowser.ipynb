{
 "cells": [
  {
   "cell_type": "code",
   "execution_count": 1,
   "metadata": {},
   "outputs": [
    {
     "data": {
      "text/plain": [
       "True"
      ]
     },
     "execution_count": 1,
     "metadata": {},
     "output_type": "execute_result"
    }
   ],
   "source": [
    "import webbrowser as w\n",
    "w.open('www.fb.com')"
   ]
  },
  {
   "cell_type": "code",
   "execution_count": 6,
   "metadata": {},
   "outputs": [
    {
     "ename": "ParserError",
     "evalue": "Error tokenizing data. C error: Expected 1 fields in line 28, saw 367\n",
     "output_type": "error",
     "traceback": [
      "\u001b[1;31m---------------------------------------------------------------------------\u001b[0m",
      "\u001b[1;31mParserError\u001b[0m                               Traceback (most recent call last)",
      "Cell \u001b[1;32mIn [6], line 3\u001b[0m\n\u001b[0;32m      1\u001b[0m \u001b[39mfrom\u001b[39;00m \u001b[39mpandas\u001b[39;00m \u001b[39mimport\u001b[39;00m read_csv\n\u001b[0;32m      2\u001b[0m url\u001b[39m=\u001b[39m\u001b[39m'\u001b[39m\u001b[39mhttps://github.com/cs109/2014_data/blob/master/countries.csv\u001b[39m\u001b[39m'\u001b[39m\n\u001b[1;32m----> 3\u001b[0m data \u001b[39m=\u001b[39m read_csv(url, names\u001b[39m=\u001b[39;49m[\u001b[39m2\u001b[39;49m])\n\u001b[0;32m      4\u001b[0m \u001b[39mprint\u001b[39m(data\u001b[39m.\u001b[39mshape)\n",
      "File \u001b[1;32mc:\\Users\\ENG-Alhousainy\\AppData\\Local\\Programs\\Python\\Python310\\lib\\site-packages\\pandas\\util\\_decorators.py:311\u001b[0m, in \u001b[0;36mdeprecate_nonkeyword_arguments.<locals>.decorate.<locals>.wrapper\u001b[1;34m(*args, **kwargs)\u001b[0m\n\u001b[0;32m    305\u001b[0m \u001b[39mif\u001b[39;00m \u001b[39mlen\u001b[39m(args) \u001b[39m>\u001b[39m num_allow_args:\n\u001b[0;32m    306\u001b[0m     warnings\u001b[39m.\u001b[39mwarn(\n\u001b[0;32m    307\u001b[0m         msg\u001b[39m.\u001b[39mformat(arguments\u001b[39m=\u001b[39marguments),\n\u001b[0;32m    308\u001b[0m         \u001b[39mFutureWarning\u001b[39;00m,\n\u001b[0;32m    309\u001b[0m         stacklevel\u001b[39m=\u001b[39mstacklevel,\n\u001b[0;32m    310\u001b[0m     )\n\u001b[1;32m--> 311\u001b[0m \u001b[39mreturn\u001b[39;00m func(\u001b[39m*\u001b[39margs, \u001b[39m*\u001b[39m\u001b[39m*\u001b[39mkwargs)\n",
      "File \u001b[1;32mc:\\Users\\ENG-Alhousainy\\AppData\\Local\\Programs\\Python\\Python310\\lib\\site-packages\\pandas\\io\\parsers\\readers.py:678\u001b[0m, in \u001b[0;36mread_csv\u001b[1;34m(filepath_or_buffer, sep, delimiter, header, names, index_col, usecols, squeeze, prefix, mangle_dupe_cols, dtype, engine, converters, true_values, false_values, skipinitialspace, skiprows, skipfooter, nrows, na_values, keep_default_na, na_filter, verbose, skip_blank_lines, parse_dates, infer_datetime_format, keep_date_col, date_parser, dayfirst, cache_dates, iterator, chunksize, compression, thousands, decimal, lineterminator, quotechar, quoting, doublequote, escapechar, comment, encoding, encoding_errors, dialect, error_bad_lines, warn_bad_lines, on_bad_lines, delim_whitespace, low_memory, memory_map, float_precision, storage_options)\u001b[0m\n\u001b[0;32m    663\u001b[0m kwds_defaults \u001b[39m=\u001b[39m _refine_defaults_read(\n\u001b[0;32m    664\u001b[0m     dialect,\n\u001b[0;32m    665\u001b[0m     delimiter,\n\u001b[1;32m   (...)\u001b[0m\n\u001b[0;32m    674\u001b[0m     defaults\u001b[39m=\u001b[39m{\u001b[39m\"\u001b[39m\u001b[39mdelimiter\u001b[39m\u001b[39m\"\u001b[39m: \u001b[39m\"\u001b[39m\u001b[39m,\u001b[39m\u001b[39m\"\u001b[39m},\n\u001b[0;32m    675\u001b[0m )\n\u001b[0;32m    676\u001b[0m kwds\u001b[39m.\u001b[39mupdate(kwds_defaults)\n\u001b[1;32m--> 678\u001b[0m \u001b[39mreturn\u001b[39;00m _read(filepath_or_buffer, kwds)\n",
      "File \u001b[1;32mc:\\Users\\ENG-Alhousainy\\AppData\\Local\\Programs\\Python\\Python310\\lib\\site-packages\\pandas\\io\\parsers\\readers.py:581\u001b[0m, in \u001b[0;36m_read\u001b[1;34m(filepath_or_buffer, kwds)\u001b[0m\n\u001b[0;32m    578\u001b[0m     \u001b[39mreturn\u001b[39;00m parser\n\u001b[0;32m    580\u001b[0m \u001b[39mwith\u001b[39;00m parser:\n\u001b[1;32m--> 581\u001b[0m     \u001b[39mreturn\u001b[39;00m parser\u001b[39m.\u001b[39;49mread(nrows)\n",
      "File \u001b[1;32mc:\\Users\\ENG-Alhousainy\\AppData\\Local\\Programs\\Python\\Python310\\lib\\site-packages\\pandas\\io\\parsers\\readers.py:1253\u001b[0m, in \u001b[0;36mTextFileReader.read\u001b[1;34m(self, nrows)\u001b[0m\n\u001b[0;32m   1251\u001b[0m nrows \u001b[39m=\u001b[39m validate_integer(\u001b[39m\"\u001b[39m\u001b[39mnrows\u001b[39m\u001b[39m\"\u001b[39m, nrows)\n\u001b[0;32m   1252\u001b[0m \u001b[39mtry\u001b[39;00m:\n\u001b[1;32m-> 1253\u001b[0m     index, columns, col_dict \u001b[39m=\u001b[39m \u001b[39mself\u001b[39;49m\u001b[39m.\u001b[39;49m_engine\u001b[39m.\u001b[39;49mread(nrows)\n\u001b[0;32m   1254\u001b[0m \u001b[39mexcept\u001b[39;00m \u001b[39mException\u001b[39;00m:\n\u001b[0;32m   1255\u001b[0m     \u001b[39mself\u001b[39m\u001b[39m.\u001b[39mclose()\n",
      "File \u001b[1;32mc:\\Users\\ENG-Alhousainy\\AppData\\Local\\Programs\\Python\\Python310\\lib\\site-packages\\pandas\\io\\parsers\\c_parser_wrapper.py:225\u001b[0m, in \u001b[0;36mCParserWrapper.read\u001b[1;34m(self, nrows)\u001b[0m\n\u001b[0;32m    223\u001b[0m \u001b[39mtry\u001b[39;00m:\n\u001b[0;32m    224\u001b[0m     \u001b[39mif\u001b[39;00m \u001b[39mself\u001b[39m\u001b[39m.\u001b[39mlow_memory:\n\u001b[1;32m--> 225\u001b[0m         chunks \u001b[39m=\u001b[39m \u001b[39mself\u001b[39;49m\u001b[39m.\u001b[39;49m_reader\u001b[39m.\u001b[39;49mread_low_memory(nrows)\n\u001b[0;32m    226\u001b[0m         \u001b[39m# destructive to chunks\u001b[39;00m\n\u001b[0;32m    227\u001b[0m         data \u001b[39m=\u001b[39m _concatenate_chunks(chunks)\n",
      "File \u001b[1;32mc:\\Users\\ENG-Alhousainy\\AppData\\Local\\Programs\\Python\\Python310\\lib\\site-packages\\pandas\\_libs\\parsers.pyx:805\u001b[0m, in \u001b[0;36mpandas._libs.parsers.TextReader.read_low_memory\u001b[1;34m()\u001b[0m\n",
      "File \u001b[1;32mc:\\Users\\ENG-Alhousainy\\AppData\\Local\\Programs\\Python\\Python310\\lib\\site-packages\\pandas\\_libs\\parsers.pyx:861\u001b[0m, in \u001b[0;36mpandas._libs.parsers.TextReader._read_rows\u001b[1;34m()\u001b[0m\n",
      "File \u001b[1;32mc:\\Users\\ENG-Alhousainy\\AppData\\Local\\Programs\\Python\\Python310\\lib\\site-packages\\pandas\\_libs\\parsers.pyx:847\u001b[0m, in \u001b[0;36mpandas._libs.parsers.TextReader._tokenize_rows\u001b[1;34m()\u001b[0m\n",
      "File \u001b[1;32mc:\\Users\\ENG-Alhousainy\\AppData\\Local\\Programs\\Python\\Python310\\lib\\site-packages\\pandas\\_libs\\parsers.pyx:1960\u001b[0m, in \u001b[0;36mpandas._libs.parsers.raise_parser_error\u001b[1;34m()\u001b[0m\n",
      "\u001b[1;31mParserError\u001b[0m: Error tokenizing data. C error: Expected 1 fields in line 28, saw 367\n"
     ]
    }
   ],
   "source": [
    "from pandas import read_csv\n",
    "url='https://github.com/cs109/2014_data/blob/master/countries.csv'\n",
    "data = read_csv(url, names=[2])\n",
    "print(data.shape)"
   ]
  },
  {
   "cell_type": "code",
   "execution_count": 7,
   "metadata": {},
   "outputs": [
    {
     "name": "stdout",
     "output_type": "stream",
     "text": [
      "['D:\\\\Images AI\\\\1.jpg', 'D:\\\\Images AI\\\\10.jpg', 'D:\\\\Images AI\\\\2.png', 'D:\\\\Images AI\\\\3.jpg', 'D:\\\\Images AI\\\\4.jpg', 'D:\\\\Images AI\\\\5.jpg', 'D:\\\\Images AI\\\\6.jpg', 'D:\\\\Images AI\\\\7.jpg', 'D:\\\\Images AI\\\\8.jpg', 'D:\\\\Images AI\\\\9.jpg', 'D:\\\\Images AI\\\\Compress_image.jpg', 'D:\\\\Images AI\\\\file1.txt', 'D:\\\\Images AI\\\\File2.txt', 'D:\\\\Images AI\\\\Image5_1.jpg', 'D:\\\\Images AI\\\\Image5_2.jpg', 'D:\\\\Images AI\\\\Image5_3.jpg', 'D:\\\\Images AI\\\\image5_compress.jpg', 'D:\\\\Images AI\\\\image_1.jpg', 'D:\\\\Images AI\\\\image_2.jpg', 'D:\\\\Images AI\\\\image_3.jpg', 'D:\\\\Images AI\\\\Image_4.jpg', 'D:\\\\Images AI\\\\Image_5 Dont comprees.jpg', 'D:\\\\Images AI\\\\image_8.txt', 'D:\\\\Images AI\\\\Image_Original.jpg']\n"
     ]
    }
   ],
   "source": [
    "import glob as gb \n",
    "a=gb.glob(pathname='D:\\\\Images AI\\\\*.*')\n",
    "print(a)"
   ]
  },
  {
   "cell_type": "code",
   "execution_count": 8,
   "metadata": {},
   "outputs": [
    {
     "name": "stdout",
     "output_type": "stream",
     "text": [
      "['D:\\\\Programming\\\\Machine learning Python\\\\01- Math Operators In Python.py', 'D:\\\\Programming\\\\Machine learning Python\\\\02- Math Library.py', 'D:\\\\Programming\\\\Machine learning Python\\\\03- Strings In Python.py', 'D:\\\\Programming\\\\Machine learning Python\\\\04- Handeling With Files.py', 'D:\\\\Programming\\\\Machine learning Python\\\\05-Lists.py', 'D:\\\\Programming\\\\Machine learning Python\\\\06-Different Types From List.py', 'D:\\\\Programming\\\\Machine learning Python\\\\07-Tuples.py', 'D:\\\\Programming\\\\Machine learning Python\\\\08-Sets.py', 'D:\\\\Programming\\\\Machine learning Python\\\\09-Dictionary.py', 'D:\\\\Programming\\\\Machine learning Python\\\\10-IFlaw.py', 'D:\\\\Programming\\\\Machine learning Python\\\\11-For Loop.py', 'D:\\\\Programming\\\\Machine learning Python\\\\12-while.py', 'D:\\\\Programming\\\\Machine learning Python\\\\13-Statistics Library.py', 'D:\\\\Programming\\\\Machine learning Python\\\\14-Random Library.py', 'D:\\\\Programming\\\\Machine learning Python\\\\15-Functions.py', 'D:\\\\Programming\\\\Machine learning Python\\\\16- Class .py', 'D:\\\\Programming\\\\Machine learning Python\\\\17- Numpy .py', 'D:\\\\Programming\\\\Machine learning Python\\\\18-numpy part two.py', 'D:\\\\Programming\\\\Machine learning Python\\\\19-Numpy Part Three.py', 'D:\\\\Programming\\\\Machine learning Python\\\\20- Reading Files Using Numpy.py', 'D:\\\\Programming\\\\Machine learning Python\\\\21-Dealing With Polynomials using numpy.py', 'D:\\\\Programming\\\\Machine learning Python\\\\22-Numpy Functions & Dealig With Date.py', 'D:\\\\Programming\\\\Machine learning Python\\\\23-Pandas In Python Part one.py', 'D:\\\\Programming\\\\Machine learning Python\\\\24-Pandas(Dataframe_1).py', 'D:\\\\Programming\\\\Machine learning Python\\\\25-Pandas(DataFrame_2).py', 'D:\\\\Programming\\\\Machine learning Python\\\\26- Pandas (DataFrame Final Part).py', 'D:\\\\Programming\\\\Machine learning Python\\\\27-Pandas(MuliIndex).py', 'D:\\\\Programming\\\\Machine learning Python\\\\28-Pandas(Strings).py', 'D:\\\\Programming\\\\Machine learning Python\\\\29-MatPlotLib(Annotate).ipynb', 'D:\\\\Programming\\\\Machine learning Python\\\\29-Pandas(With Date).py', 'D:\\\\Programming\\\\Machine learning Python\\\\30-Pandas(With Files).py', 'D:\\\\Programming\\\\Machine learning Python\\\\31-MatplotLib(Style).py', 'D:\\\\Programming\\\\Machine learning Python\\\\32-MatplotLib(Histogram).ipynb', 'D:\\\\Programming\\\\Machine learning Python\\\\32-MatplotLib(Pie).ipynb', 'D:\\\\Programming\\\\Machine learning Python\\\\33-MatplotLib(Bar).ipynb', 'D:\\\\Programming\\\\Machine learning Python\\\\34-MatplotLib(Contour).ipynb', 'D:\\\\Programming\\\\Machine learning Python\\\\35-Matplotlib(3D).ipynb', 'D:\\\\Programming\\\\Machine learning Python\\\\36-MayPlotLib(SubPlot).ipynb', 'D:\\\\Programming\\\\Machine learning Python\\\\37-Matplotlib(Annotate).ipynb', 'D:\\\\Programming\\\\Machine learning Python\\\\38-Matplotlib(Imshow).ipynb', 'D:\\\\Programming\\\\Machine learning Python\\\\39-MatplotLib(Legend).ipynb', 'D:\\\\Programming\\\\Machine learning Python\\\\40-MatplotLib(Vlines,Ylines).ipynb', 'D:\\\\Programming\\\\Machine learning Python\\\\41-MatplotLib(Xlim,YLim).ipynb', 'D:\\\\Programming\\\\Machine learning Python\\\\42-MatplotLib(Patches).ipynb', 'D:\\\\Programming\\\\Machine learning Python\\\\43-Matplotlib(Images).ipynb', 'D:\\\\Programming\\\\Machine learning Python\\\\45-Scipy_Library.ipynb', 'D:\\\\Programming\\\\Machine learning Python\\\\46-Webbrowser.ipynb', 'D:\\\\Programming\\\\Machine learning Python\\\\ISFP.csv', 'D:\\\\Programming\\\\Machine learning Python\\\\MatplotLib(Plot1).ipynb', 'D:\\\\Programming\\\\Machine learning Python\\\\MatplotLib(Plot2).ipynb', 'D:\\\\Programming\\\\Machine learning Python\\\\Matplotlib(Plot3).ipynb', 'D:\\\\Programming\\\\Machine learning Python\\\\Scatter.ipynb']\n"
     ]
    }
   ],
   "source": [
    "import glob as gb \n",
    "d=gb.glob(pathname='D:\\\\Programming\\\\Machine learning Python\\\\*.*')\n",
    "print(d)"
   ]
  },
  {
   "cell_type": "code",
   "execution_count": 9,
   "metadata": {},
   "outputs": [
    {
     "name": "stdout",
     "output_type": "stream",
     "text": [
      "['01- Math Operators In Python.py', '02- Math Library.py', '03- Strings In Python.py', '04- Handeling With Files.py', '05-Lists.py', '06-Different Types From List.py', '07-Tuples.py', '08-Sets.py', '09-Dictionary.py', '10-IFlaw.py', '11-For Loop.py', '12-while.py', '13-Statistics Library.py', '14-Random Library.py', '15-Functions.py', '16- Class .py', '17- Numpy .py', '18-numpy part two.py', '19-Numpy Part Three.py', '20- Reading Files Using Numpy.py', '21-Dealing With Polynomials using numpy.py', '22-Numpy Functions & Dealig With Date.py', '23-Pandas In Python Part one.py', '24-Pandas(Dataframe_1).py', '25-Pandas(DataFrame_2).py', '26- Pandas (DataFrame Final Part).py', '27-Pandas(MuliIndex).py', '28-Pandas(Strings).py', '29-MatPlotLib(Annotate).ipynb', '29-Pandas(With Date).py', '30-Pandas(With Files).py', '31-MatplotLib(Style).py', '32-MatplotLib(Histogram).ipynb', '32-MatplotLib(Pie).ipynb', '33-MatplotLib(Bar).ipynb', '34-MatplotLib(Contour).ipynb', '35-Matplotlib(3D).ipynb', '36-MayPlotLib(SubPlot).ipynb', '37-Matplotlib(Annotate).ipynb', '38-Matplotlib(Imshow).ipynb', '39-MatplotLib(Legend).ipynb', '40-MatplotLib(Vlines,Ylines).ipynb', '41-MatplotLib(Xlim,YLim).ipynb', '42-MatplotLib(Patches).ipynb', '43-Matplotlib(Images).ipynb', '45-Scipy_Library.ipynb', '46-Webbrowser.ipynb', 'ISFP.csv', 'MatplotLib(Plot1).ipynb', 'MatplotLib(Plot2).ipynb', 'Matplotlib(Plot3).ipynb', 'Scatter.ipynb']\n"
     ]
    }
   ],
   "source": [
    "import glob as gb \n",
    "b=gb.glob1('D:\\\\Programming\\\\Machine learning Python\\\\','*.*')\n",
    "print(b)"
   ]
  }
 ],
 "metadata": {
  "kernelspec": {
   "display_name": "Python 3.10.6 64-bit",
   "language": "python",
   "name": "python3"
  },
  "language_info": {
   "codemirror_mode": {
    "name": "ipython",
    "version": 3
   },
   "file_extension": ".py",
   "mimetype": "text/x-python",
   "name": "python",
   "nbconvert_exporter": "python",
   "pygments_lexer": "ipython3",
   "version": "3.10.6"
  },
  "orig_nbformat": 4,
  "vscode": {
   "interpreter": {
    "hash": "4b9f101850c67e49d0d8461a88159b16436e7850b7b01b32dcbf2903f9255fd2"
   }
  }
 },
 "nbformat": 4,
 "nbformat_minor": 2
}
